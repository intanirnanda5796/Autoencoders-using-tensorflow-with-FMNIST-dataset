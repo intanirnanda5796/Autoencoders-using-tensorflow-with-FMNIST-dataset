{
  "nbformat": 4,
  "nbformat_minor": 0,
  "metadata": {
    "colab": {
      "name": "Autoencoder-with-Fashion-MNIST-dataset.ipynb",
      "version": "0.3.2",
      "provenance": []
    },
    "kernelspec": {
      "name": "python3",
      "display_name": "Python 3"
    }
  },
  "cells": [
    {
      "cell_type": "markdown",
      "metadata": {
        "id": "Qx5l_QAx4C2O",
        "colab_type": "text"
      },
      "source": [
        "# Download Dataset"
      ]
    },
    {
      "cell_type": "markdown",
      "metadata": {
        "id": "XxkrSgAO4Hi4",
        "colab_type": "text"
      },
      "source": [
        "For this case, we are going to use Fashion MNIST dataset. For getting FMNIST dataset, we could get it easily the data through internet ."
      ]
    },
    {
      "cell_type": "markdown",
      "metadata": {
        "id": "pu3BtolY5-zr",
        "colab_type": "text"
      },
      "source": [
        "Lets download FMNIST dataset like in this following code : "
      ]
    },
    {
      "cell_type": "code",
      "metadata": {
        "id": "qUYVb_KMyuXg",
        "colab_type": "code",
        "colab": {
          "base_uri": "https://localhost:8080/",
          "height": 785
        },
        "outputId": "66ab9b43-399b-4d9c-dcce-d5d00eec82e7"
      },
      "source": [
        "!mkdir data\n",
        "!mkdir data/fashion\n",
        "!wget -O data/fashion/train-images-idx3-ubyte.gz http://fashion-mnist.s3-website.eu-central-1.amazonaws.com/train-images-idx3-ubyte.gz\n",
        "!wget -O data/fashion/train-labels-idx1-ubyte.gz http://fashion-mnist.s3-website.eu-central-1.amazonaws.com/train-labels-idx1-ubyte.gz\n",
        "!wget -O data/fashion/t10k-images-idx3-ubyte.gz http://fashion-mnist.s3-website.eu-central-1.amazonaws.com/t10k-images-idx3-ubyte.gz\n",
        "!wget -O data/fashion/t10k-labels-idx1-ubyte.gz http://fashion-mnist.s3-website.eu-central-1.amazonaws.com/t10k-labels-idx1-ubyte.gz"
      ],
      "execution_count": 1,
      "outputs": [
        {
          "output_type": "stream",
          "text": [
            "--2019-08-14 06:23:08--  http://fashion-mnist.s3-website.eu-central-1.amazonaws.com/train-images-idx3-ubyte.gz\n",
            "Resolving fashion-mnist.s3-website.eu-central-1.amazonaws.com (fashion-mnist.s3-website.eu-central-1.amazonaws.com)... 52.219.72.174\n",
            "Connecting to fashion-mnist.s3-website.eu-central-1.amazonaws.com (fashion-mnist.s3-website.eu-central-1.amazonaws.com)|52.219.72.174|:80... connected.\n",
            "HTTP request sent, awaiting response... 200 OK\n",
            "Length: 26421880 (25M) [binary/octet-stream]\n",
            "Saving to: ‘data/fashion/train-images-idx3-ubyte.gz’\n",
            "\n",
            "data/fashion/train- 100%[===================>]  25.20M  11.9MB/s    in 2.1s    \n",
            "\n",
            "2019-08-14 06:23:10 (11.9 MB/s) - ‘data/fashion/train-images-idx3-ubyte.gz’ saved [26421880/26421880]\n",
            "\n",
            "--2019-08-14 06:23:12--  http://fashion-mnist.s3-website.eu-central-1.amazonaws.com/train-labels-idx1-ubyte.gz\n",
            "Resolving fashion-mnist.s3-website.eu-central-1.amazonaws.com (fashion-mnist.s3-website.eu-central-1.amazonaws.com)... 52.219.72.138\n",
            "Connecting to fashion-mnist.s3-website.eu-central-1.amazonaws.com (fashion-mnist.s3-website.eu-central-1.amazonaws.com)|52.219.72.138|:80... connected.\n",
            "HTTP request sent, awaiting response... 200 OK\n",
            "Length: 29515 (29K) [binary/octet-stream]\n",
            "Saving to: ‘data/fashion/train-labels-idx1-ubyte.gz’\n",
            "\n",
            "data/fashion/train- 100%[===================>]  28.82K  --.-KB/s    in 0.1s    \n",
            "\n",
            "2019-08-14 06:23:12 (202 KB/s) - ‘data/fashion/train-labels-idx1-ubyte.gz’ saved [29515/29515]\n",
            "\n",
            "--2019-08-14 06:23:14--  http://fashion-mnist.s3-website.eu-central-1.amazonaws.com/t10k-images-idx3-ubyte.gz\n",
            "Resolving fashion-mnist.s3-website.eu-central-1.amazonaws.com (fashion-mnist.s3-website.eu-central-1.amazonaws.com)... 52.219.72.138\n",
            "Connecting to fashion-mnist.s3-website.eu-central-1.amazonaws.com (fashion-mnist.s3-website.eu-central-1.amazonaws.com)|52.219.72.138|:80... connected.\n",
            "HTTP request sent, awaiting response... 200 OK\n",
            "Length: 4422102 (4.2M) [binary/octet-stream]\n",
            "Saving to: ‘data/fashion/t10k-images-idx3-ubyte.gz’\n",
            "\n",
            "data/fashion/t10k-i 100%[===================>]   4.22M  3.74MB/s    in 1.1s    \n",
            "\n",
            "2019-08-14 06:23:15 (3.74 MB/s) - ‘data/fashion/t10k-images-idx3-ubyte.gz’ saved [4422102/4422102]\n",
            "\n",
            "--2019-08-14 06:23:16--  http://fashion-mnist.s3-website.eu-central-1.amazonaws.com/t10k-labels-idx1-ubyte.gz\n",
            "Resolving fashion-mnist.s3-website.eu-central-1.amazonaws.com (fashion-mnist.s3-website.eu-central-1.amazonaws.com)... 52.219.74.154\n",
            "Connecting to fashion-mnist.s3-website.eu-central-1.amazonaws.com (fashion-mnist.s3-website.eu-central-1.amazonaws.com)|52.219.74.154|:80... connected.\n",
            "HTTP request sent, awaiting response... 200 OK\n",
            "Length: 5148 (5.0K) [binary/octet-stream]\n",
            "Saving to: ‘data/fashion/t10k-labels-idx1-ubyte.gz’\n",
            "\n",
            "data/fashion/t10k-l 100%[===================>]   5.03K  --.-KB/s    in 0s      \n",
            "\n",
            "2019-08-14 06:23:16 (339 MB/s) - ‘data/fashion/t10k-labels-idx1-ubyte.gz’ saved [5148/5148]\n",
            "\n"
          ],
          "name": "stdout"
        }
      ]
    },
    {
      "cell_type": "markdown",
      "metadata": {
        "id": "LJZG-5eS6dgA",
        "colab_type": "text"
      },
      "source": [
        "# Import Data"
      ]
    },
    {
      "cell_type": "markdown",
      "metadata": {
        "id": "U3uTMt0H6GrR",
        "colab_type": "text"
      },
      "source": [
        "Then import and make the FMNIST dataset available to use "
      ]
    },
    {
      "cell_type": "code",
      "metadata": {
        "id": "K0qP4Ynyy6Ja",
        "colab_type": "code",
        "colab": {}
      },
      "source": [
        "import tensorflow as tf\n",
        "import numpy as np\n",
        "import matplotlib.pyplot as plt\n",
        "from tensorflow.examples.tutorials.mnist import input_data"
      ],
      "execution_count": 0,
      "outputs": []
    },
    {
      "cell_type": "code",
      "metadata": {
        "id": "nG36gmZGzBDZ",
        "colab_type": "code",
        "colab": {
          "base_uri": "https://localhost:8080/",
          "height": 428
        },
        "outputId": "4c71e0ed-3936-4a82-adab-f2cbf94217dd"
      },
      "source": [
        "fmnist = input_data.read_data_sets('data/fashion',one_hot=True)"
      ],
      "execution_count": 3,
      "outputs": [
        {
          "output_type": "stream",
          "text": [
            "WARNING: Logging before flag parsing goes to stderr.\n",
            "W0814 06:23:58.207479 140309403170688 deprecation.py:323] From <ipython-input-3-9f91165ad083>:1: read_data_sets (from tensorflow.contrib.learn.python.learn.datasets.mnist) is deprecated and will be removed in a future version.\n",
            "Instructions for updating:\n",
            "Please use alternatives such as official/mnist/dataset.py from tensorflow/models.\n",
            "W0814 06:23:58.210103 140309403170688 deprecation.py:323] From /usr/local/lib/python3.6/dist-packages/tensorflow/contrib/learn/python/learn/datasets/mnist.py:260: maybe_download (from tensorflow.contrib.learn.python.learn.datasets.base) is deprecated and will be removed in a future version.\n",
            "Instructions for updating:\n",
            "Please write your own downloading logic.\n",
            "W0814 06:23:58.213025 140309403170688 deprecation.py:323] From /usr/local/lib/python3.6/dist-packages/tensorflow/contrib/learn/python/learn/datasets/mnist.py:262: extract_images (from tensorflow.contrib.learn.python.learn.datasets.mnist) is deprecated and will be removed in a future version.\n",
            "Instructions for updating:\n",
            "Please use tf.data to implement this functionality.\n"
          ],
          "name": "stderr"
        },
        {
          "output_type": "stream",
          "text": [
            "Extracting data/fashion/train-images-idx3-ubyte.gz\n"
          ],
          "name": "stdout"
        },
        {
          "output_type": "stream",
          "text": [
            "W0814 06:23:58.593951 140309403170688 deprecation.py:323] From /usr/local/lib/python3.6/dist-packages/tensorflow/contrib/learn/python/learn/datasets/mnist.py:267: extract_labels (from tensorflow.contrib.learn.python.learn.datasets.mnist) is deprecated and will be removed in a future version.\n",
            "Instructions for updating:\n",
            "Please use tf.data to implement this functionality.\n",
            "W0814 06:23:58.598769 140309403170688 deprecation.py:323] From /usr/local/lib/python3.6/dist-packages/tensorflow/contrib/learn/python/learn/datasets/mnist.py:110: dense_to_one_hot (from tensorflow.contrib.learn.python.learn.datasets.mnist) is deprecated and will be removed in a future version.\n",
            "Instructions for updating:\n",
            "Please use tf.one_hot on tensors.\n",
            "W0814 06:23:58.675820 140309403170688 deprecation.py:323] From /usr/local/lib/python3.6/dist-packages/tensorflow/contrib/learn/python/learn/datasets/mnist.py:290: DataSet.__init__ (from tensorflow.contrib.learn.python.learn.datasets.mnist) is deprecated and will be removed in a future version.\n",
            "Instructions for updating:\n",
            "Please use alternatives such as official/mnist/dataset.py from tensorflow/models.\n"
          ],
          "name": "stderr"
        },
        {
          "output_type": "stream",
          "text": [
            "Extracting data/fashion/train-labels-idx1-ubyte.gz\n",
            "Extracting data/fashion/t10k-images-idx3-ubyte.gz\n",
            "Extracting data/fashion/t10k-labels-idx1-ubyte.gz\n"
          ],
          "name": "stdout"
        }
      ]
    },
    {
      "cell_type": "markdown",
      "metadata": {
        "id": "QH4Pcqxo6VIC",
        "colab_type": "text"
      },
      "source": [
        "# Preprocessing"
      ]
    },
    {
      "cell_type": "code",
      "metadata": {
        "id": "Nq00OU4YzIuX",
        "colab_type": "code",
        "colab": {
          "base_uri": "https://localhost:8080/",
          "height": 85
        },
        "outputId": "2d122dd6-10d1-4361-a332-78ef7cc7e08e"
      },
      "source": [
        "# Shapes of training set\n",
        "print(\"Training set (images) shape: {shape}\".format(shape=fmnist.train.images.shape))\n",
        "print(\"Training set (labels) shape: {shape}\".format(shape=fmnist.train.labels.shape))\n",
        "\n",
        "# Shapes of test set\n",
        "print(\"Test set (images) shape: {shape}\".format(shape=fmnist.test.images.shape))\n",
        "print(\"Test set (labels) shape: {shape}\".format(shape=fmnist.test.labels.shape))"
      ],
      "execution_count": 4,
      "outputs": [
        {
          "output_type": "stream",
          "text": [
            "Training set (images) shape: (55000, 784)\n",
            "Training set (labels) shape: (55000, 10)\n",
            "Test set (images) shape: (10000, 784)\n",
            "Test set (labels) shape: (10000, 10)\n"
          ],
          "name": "stdout"
        }
      ]
    },
    {
      "cell_type": "markdown",
      "metadata": {
        "id": "DTMSLe4V6liZ",
        "colab_type": "text"
      },
      "source": [
        "Lets see the example of dataset by visualize it."
      ]
    },
    {
      "cell_type": "code",
      "metadata": {
        "id": "Rwe0rR3TzLPY",
        "colab_type": "code",
        "colab": {
          "base_uri": "https://localhost:8080/",
          "height": 286
        },
        "outputId": "15519e1b-7f96-4e47-f198-238a90cdb713"
      },
      "source": [
        "i= 26\n",
        "data=fmnist.train.images[i,:]\n",
        "img=np.reshape(data,(28,28))\n",
        "plt.imshow(img)\n",
        "fmnist.train.labels[i,:]"
      ],
      "execution_count": 5,
      "outputs": [
        {
          "output_type": "execute_result",
          "data": {
            "text/plain": [
              "array([0., 0., 0., 0., 1., 0., 0., 0., 0., 0.])"
            ]
          },
          "metadata": {
            "tags": []
          },
          "execution_count": 5
        },
        {
          "output_type": "display_data",
          "data": {
            "image/png": "[encoded data removed]",
            "text/plain": [
              "<Figure size 432x288 with 1 Axes>"
            ]
          },
          "metadata": {
            "tags": []
          }
        }
      ]
    },
    {
      "cell_type": "markdown",
      "metadata": {
        "id": "wn678hoA6sBv",
        "colab_type": "text"
      },
      "source": [
        "as you can see picture above , we had right dataset (Fashion MNIST)"
      ]
    },
    {
      "cell_type": "markdown",
      "metadata": {
        "id": "jJpahl5167cC",
        "colab_type": "text"
      },
      "source": [
        "# Autoencoders"
      ]
    },
    {
      "cell_type": "markdown",
      "metadata": {
        "id": "xBUgEyFb6_pp",
        "colab_type": "text"
      },
      "source": [
        "Now, lets give the parameter that are going to be used by our NN"
      ]
    },
    {
      "cell_type": "code",
      "metadata": {
        "id": "iAEpba7szNgA",
        "colab_type": "code",
        "colab": {}
      },
      "source": [
        "# AUTOENCODERS\n",
        "learning_rate = 0.01\n",
        "training_epochs = 50\n",
        "batch_size = 32\n",
        "display_step = 1\n",
        "examples_to_show = 20\n",
        "\n",
        "n_hidden_1 = 64 # 1st layer num features\n",
        "n_hidden_2 = 32 # 2nd layer num features\n",
        "n_input = 784 # MNIST data input (img shape: 28*28) jumlah pixel dalam 1 image\n",
        "\n",
        "# tf Graph input \n",
        "X = tf.placeholder(\"float\", [None, n_input])\n",
        "# distribusi normal standart\n",
        "weights = {\n",
        "    'encoder_h1': tf.Variable(tf.random_normal([n_input, n_hidden_1])),\n",
        "    'encoder_h2': tf.Variable(tf.random_normal([n_hidden_1, n_hidden_2])),\n",
        "    'decoder_h1': tf.Variable(tf.random_normal([n_hidden_2, n_hidden_1])),\n",
        "    'decoder_h2': tf.Variable(tf.random_normal([n_hidden_1, n_input])),\n",
        "}\n",
        "biases = {\n",
        "    'encoder_b1': tf.Variable(tf.random_normal([n_hidden_1])),\n",
        "    'encoder_b2': tf.Variable(tf.random_normal([n_hidden_2])),\n",
        "    'decoder_b1': tf.Variable(tf.random_normal([n_hidden_1])),\n",
        "    'decoder_b2': tf.Variable(tf.random_normal([n_input])),\n",
        "    \n",
        "}"
      ],
      "execution_count": 0,
      "outputs": []
    },
    {
      "cell_type": "markdown",
      "metadata": {
        "id": "rQp8fr8h7I_Z",
        "colab_type": "text"
      },
      "source": [
        "Now we need to create our encoder. For this, we are going to use sigmoidal functions. Sigmoidal functions continue to deliver great results with this type of networks. This is due to having a good derivative that is well-suited to backpropagation. We can create our encoder using the sigmoidal function like this:"
      ]
    },
    {
      "cell_type": "code",
      "metadata": {
        "id": "q_HaF313zYFg",
        "colab_type": "code",
        "colab": {}
      },
      "source": [
        "# Building the encoder\n",
        "def encoder(x):\n",
        "    # Encoder first layer with sigmoid activation #1\n",
        "    layer_1 = tf.nn.sigmoid(tf.add(tf.matmul(x, weights['encoder_h1']),\n",
        "                                   biases['encoder_b1']))\n",
        "    # Encoder second layer with sigmoid activation #2\n",
        "    layer_2 = tf.nn.sigmoid(tf.add(tf.matmul(layer_1, weights['encoder_h2']),\n",
        "                                   biases['encoder_b2']))\n",
        "    return layer_2"
      ],
      "execution_count": 0,
      "outputs": []
    },
    {
      "cell_type": "markdown",
      "metadata": {
        "id": "IbJSVy1f7Mjk",
        "colab_type": "text"
      },
      "source": [
        "And the decoder:\n",
        "\n",
        "You can see that the layer_1 in the encoder is the layer_2 in the decoder and vice-versa."
      ]
    },
    {
      "cell_type": "code",
      "metadata": {
        "id": "hKhv_zKszwRw",
        "colab_type": "code",
        "colab": {}
      },
      "source": [
        "# Building the decoder\n",
        "def decoder(x):\n",
        "    # Decoder first layer with sigmoid activation #1\n",
        "    layer_1 = tf.nn.sigmoid(tf.add(tf.matmul(x, weights['decoder_h1']),\n",
        "                                   biases['decoder_b1']))\n",
        "    # Decoder second layer with sigmoid activation #2\n",
        "    layer_2 = tf.nn.sigmoid(tf.add(tf.matmul(layer_1, weights['decoder_h2']),\n",
        "                                   biases['decoder_b2']))\n",
        "    return layer_2"
      ],
      "execution_count": 0,
      "outputs": []
    },
    {
      "cell_type": "markdown",
      "metadata": {
        "id": "lyAO4RAu7OvY",
        "colab_type": "text"
      },
      "source": [
        "Let's construct our model. In the variable cost we have the loss function and in the optimizer variable we have our gradient used for backpropagation. In loss function, we use Mean Squared Error (MSE)  and we use RMS as optimizer."
      ]
    },
    {
      "cell_type": "code",
      "metadata": {
        "id": "iqD5N2g3zyMf",
        "colab_type": "code",
        "colab": {}
      },
      "source": [
        "# Construct model\n",
        "encoder_op = encoder(X)\n",
        "decoder_op = decoder(encoder_op)\n",
        "\n",
        "# Prediction\n",
        "y_pred = decoder_op\n",
        "# Targets (Labels) are the input data.\n",
        "y_true = X\n",
        "\n",
        "# Perhitungan loss function dengan mean squared error\n",
        "loss = tf.losses.mean_squared_error(y_true, y_pred)\n",
        "# optimizer = tf.train.RMSPropOptimizer(learning_rate).minimize(loss)\n",
        "optimizer = tf.train.AdamOptimizer(learning_rate).minimize(loss)\n",
        "\n",
        "# Initializing the variables\n",
        "init = tf.global_variables_initializer()"
      ],
      "execution_count": 0,
      "outputs": []
    },
    {
      "cell_type": "markdown",
      "metadata": {
        "id": "VjXGP5lr9TpW",
        "colab_type": "text"
      },
      "source": [
        "The training will run for 50 epochs."
      ]
    },
    {
      "cell_type": "code",
      "metadata": {
        "id": "Hq96FY7sz0EI",
        "colab_type": "code",
        "colab": {
          "base_uri": "https://localhost:8080/",
          "height": 938
        },
        "outputId": "d9d8e730-3f54-41e0-8916-d3292fa20333"
      },
      "source": [
        "# Launch the graph\n",
        "# Using InteractiveSession (more convenient while using Notebooks)\n",
        "sess = tf.InteractiveSession()\n",
        "sess.run(init)\n",
        "\n",
        "total_batch = int(fmnist.train.num_examples/batch_size)\n",
        "# Training cycle\n",
        "for epoch in range(training_epochs):\n",
        "    # Loop over all batches\n",
        "    for i in range(total_batch):\n",
        "        batch_xs, batch_ys = fmnist.train.next_batch(batch_size)\n",
        "        # Run optimization op (backprop) and cost op (to get loss value)\n",
        "        _, c = sess.run([optimizer, loss], feed_dict={X: batch_xs})\n",
        "    # Display logs per epoch step\n",
        "    if epoch % display_step == 0:\n",
        "        print(\"Epoch:\", '%04d' % (epoch+1),\n",
        "              \"loss=\", \"{:.9f}\".format(c))   \n",
        "print(\"Optimization Finished!\")"
      ],
      "execution_count": 32,
      "outputs": [
        {
          "output_type": "stream",
          "text": [
            "/usr/local/lib/python3.6/dist-packages/tensorflow/python/client/session.py:1735: UserWarning: An interactive session is already active. This can cause out-of-memory errors in some cases. You must explicitly call `InteractiveSession.close()` to release resources held by the other session(s).\n",
            "  warnings.warn('An interactive session is already active. This can '\n"
          ],
          "name": "stderr"
        },
        {
          "output_type": "stream",
          "text": [
            "Epoch: 0001 loss= 0.036376860\n",
            "Epoch: 0002 loss= 0.026529774\n",
            "Epoch: 0003 loss= 0.031329904\n",
            "Epoch: 0004 loss= 0.023188654\n",
            "Epoch: 0005 loss= 0.020168008\n",
            "Epoch: 0006 loss= 0.019780388\n",
            "Epoch: 0007 loss= 0.022619564\n",
            "Epoch: 0008 loss= 0.024474557\n",
            "Epoch: 0009 loss= 0.018428562\n",
            "Epoch: 0010 loss= 0.017997138\n",
            "Epoch: 0011 loss= 0.018547002\n",
            "Epoch: 0012 loss= 0.017605718\n",
            "Epoch: 0013 loss= 0.019860806\n",
            "Epoch: 0014 loss= 0.016265867\n",
            "Epoch: 0015 loss= 0.019565765\n",
            "Epoch: 0016 loss= 0.015828412\n",
            "Epoch: 0017 loss= 0.020186959\n",
            "Epoch: 0018 loss= 0.016378716\n",
            "Epoch: 0019 loss= 0.015597955\n",
            "Epoch: 0020 loss= 0.019860040\n",
            "Epoch: 0021 loss= 0.019977281\n",
            "Epoch: 0022 loss= 0.019646524\n",
            "Epoch: 0023 loss= 0.020106798\n",
            "Epoch: 0024 loss= 0.018172445\n",
            "Epoch: 0025 loss= 0.017654754\n",
            "Epoch: 0026 loss= 0.017730907\n",
            "Epoch: 0027 loss= 0.020984648\n",
            "Epoch: 0028 loss= 0.016620204\n",
            "Epoch: 0029 loss= 0.018097121\n",
            "Epoch: 0030 loss= 0.018427039\n",
            "Epoch: 0031 loss= 0.017805655\n",
            "Epoch: 0032 loss= 0.020307336\n",
            "Epoch: 0033 loss= 0.014074435\n",
            "Epoch: 0034 loss= 0.013715751\n",
            "Epoch: 0035 loss= 0.015582391\n",
            "Epoch: 0036 loss= 0.019137001\n",
            "Epoch: 0037 loss= 0.018193770\n",
            "Epoch: 0038 loss= 0.016318116\n",
            "Epoch: 0039 loss= 0.017530164\n",
            "Epoch: 0040 loss= 0.016824001\n",
            "Epoch: 0041 loss= 0.016390454\n",
            "Epoch: 0042 loss= 0.016513560\n",
            "Epoch: 0043 loss= 0.014615154\n",
            "Epoch: 0044 loss= 0.016522652\n",
            "Epoch: 0045 loss= 0.019940827\n",
            "Epoch: 0046 loss= 0.015434971\n",
            "Epoch: 0047 loss= 0.016985996\n",
            "Epoch: 0048 loss= 0.016768869\n",
            "Epoch: 0049 loss= 0.016814278\n",
            "Epoch: 0050 loss= 0.016055332\n",
            "Optimization Finished!\n"
          ],
          "name": "stdout"
        }
      ]
    },
    {
      "cell_type": "markdown",
      "metadata": {
        "id": "j64LJUwg9Xf7",
        "colab_type": "text"
      },
      "source": [
        "Lets count MSE testing dataset"
      ]
    },
    {
      "cell_type": "code",
      "metadata": {
        "id": "QG4XPsjRz2Vf",
        "colab_type": "code",
        "colab": {
          "base_uri": "https://localhost:8080/",
          "height": 34
        },
        "outputId": "623c0093-7eb0-4693-a0ea-637f4815d516"
      },
      "source": [
        "# MSE testing dataset\n",
        "from sklearn.metrics import r2_score\n",
        "from sklearn import linear_model\n",
        "regr = linear_model.LinearRegression()\n",
        "train_x = np.asanyarray(fmnist.train.images)\n",
        "train_y = np.asanyarray(fmnist.train.labels)\n",
        "regr.fit (train_x, train_y)\n",
        "test_x = np.asanyarray(fmnist.test.images)\n",
        "test_y = np.asanyarray(fmnist.test.labels)\n",
        "test_y_=regr.predict(test_x)\n",
        "\n",
        "mse=np.mean((test_y_ - test_y)**2)\n",
        "mse\n"
      ],
      "execution_count": 33,
      "outputs": [
        {
          "output_type": "execute_result",
          "data": {
            "text/plain": [
              "0.036690839513887144"
            ]
          },
          "metadata": {
            "tags": []
          },
          "execution_count": 33
        }
      ]
    },
    {
      "cell_type": "markdown",
      "metadata": {
        "id": "CXlKWHeW9hcl",
        "colab_type": "text"
      },
      "source": [
        "Now, let's apply encode and decode for our tests."
      ]
    },
    {
      "cell_type": "code",
      "metadata": {
        "id": "oMY1NDC41vT-",
        "colab_type": "code",
        "colab": {}
      },
      "source": [
        "# Applying encode and decode over test set\n",
        "encode_decode = sess.run(\n",
        "    y_pred, feed_dict={X: fmnist.test.images[:examples_to_show]})"
      ],
      "execution_count": 0,
      "outputs": []
    },
    {
      "cell_type": "code",
      "metadata": {
        "id": "RBkzyCdh1-Uf",
        "colab_type": "code",
        "colab": {
          "base_uri": "https://localhost:8080/",
          "height": 34
        },
        "outputId": "4d3b298e-425c-4c52-aceb-e30d4466a791"
      },
      "source": [
        "code = sess.run(\n",
        "    encoder_op, feed_dict={X: fmnist.test.images[:examples_to_show]})\n",
        "\n",
        "print(code.shape)"
      ],
      "execution_count": 25,
      "outputs": [
        {
          "output_type": "stream",
          "text": [
            "(20, 32)\n"
          ],
          "name": "stdout"
        }
      ]
    },
    {
      "cell_type": "markdown",
      "metadata": {
        "id": "dKrfP89A9u-d",
        "colab_type": "text"
      },
      "source": [
        "Let's simply visualize our graphs!"
      ]
    },
    {
      "cell_type": "code",
      "metadata": {
        "id": "1CVLevIy2CR_",
        "colab_type": "code",
        "colab": {
          "base_uri": "https://localhost:8080/",
          "height": 284
        },
        "outputId": "fda207b1-1ae8-45b5-ad83-bf26459f4faf"
      },
      "source": [
        "# Compare original images with their reconstructions\n",
        "f, a = plt.subplots(2, 20, figsize=(40, 4))\n",
        "for i in range(examples_to_show):\n",
        "    a[0][i].imshow(np.reshape(fmnist.test.images[i], (28, 28)))\n",
        "    a[1][i].imshow(np.reshape(encode_decode[i], (28, 28)))  "
      ],
      "execution_count": 36,
      "outputs": [
        {
          "output_type": "display_data",
          "data": {
            "image/png": "[encoded data removed]",
            "text/plain": [
              "<Figure size 2880x288 with 40 Axes>"
            ]
          },
          "metadata": {
            "tags": []
          }
        }
      ]
    },
    {
      "cell_type": "markdown",
      "metadata": {
        "id": "vSVTPKtx9yPh",
        "colab_type": "text"
      },
      "source": [
        "As you can see, the reconstructions were successful. It can be seen that some noise was added to the image. the conclusion from  this experiment, if the loss approaches the value of 0, the autoencoder results will be more perfect"
      ]
    },
    {
      "cell_type": "code",
      "metadata": {
        "id": "kceOZ7ed2Gan",
        "colab_type": "code",
        "colab": {}
      },
      "source": [
        "sess.close() #finish the session"
      ],
      "execution_count": 0,
      "outputs": []
    }
  ]
}